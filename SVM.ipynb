{
 "cells": [
  {
   "cell_type": "markdown",
   "id": "7fb62d6d-9956-4e7c-9dd6-6a3cbc341160",
   "metadata": {},
   "source": [
    "# Imports"
   ]
  },
  {
   "cell_type": "code",
   "execution_count": 1,
   "id": "9fa42ca1-ca00-4f68-b8c3-5b5d709abffe",
   "metadata": {},
   "outputs": [],
   "source": [
    "import os\n",
    "import cv2\n",
    "import numpy as np\n",
    "from sklearn.preprocessing import StandardScaler\n",
    "from sklearn.decomposition import PCA\n",
    "from sklearn import svm\n",
    "from sklearn.metrics import classification_report, accuracy_score\n",
    "from sklearn.utils import shuffle\n",
    "from sklearn.model_selection import GridSearchCV"
   ]
  },
  {
   "cell_type": "markdown",
   "id": "3e1bbcf4-d354-424f-a4fb-319883b3b533",
   "metadata": {},
   "source": [
    "# function to load and process the data "
   ]
  },
  {
   "cell_type": "code",
   "execution_count": 2,
   "id": "b1121b6d-36a2-46b7-818a-a71995d3b337",
   "metadata": {},
   "outputs": [],
   "source": [
    "# Function to load images from a specified folder\n",
    "# Each subfolder in 'folder' corresponds to a different class\n",
    "def load_images_from_folder(folder):\n",
    "    images = []  # To store the image data\n",
    "    labels = []  # To store corresponding class labels (numeric)\n",
    "    class_names = sorted(os.listdir(folder))  # Sorted list of class names\n",
    "    for idx, class_name in enumerate(class_names):\n",
    "        class_path = os.path.join(folder, class_name)\n",
    "        for img_name in os.listdir(class_path):\n",
    "            img_path = os.path.join(class_path, img_name)\n",
    "            img = cv2.imread(img_path)  # Read the image using OpenCV\n",
    "            if img is not None:\n",
    "                img = cv2.resize(img, (32, 32))  # Resize image to 32x32 pixels\n",
    "                images.append(img)  # Append the image to the images list\n",
    "                labels.append(idx)  # Append the numeric label for the class\n",
    "    return np.array(images), np.array(labels), class_names\n",
    "\n",
    "# Function to preprocess images using PCA (Principal Component Analysis)\n",
    "# Reduces dimensionality to the specified number of components\n",
    "def preprocess_data_with_pca(images_train, images_test, n_components=100):\n",
    "    # Flatten the images to 1D vectors for each image\n",
    "    images_train_flat = images_train.reshape((images_train.shape[0], -1))\n",
    "    images_test_flat = images_test.reshape((images_test.shape[0], -1))\n",
    "\n",
    "    # Standardize the data (mean=0, variance=1) before applying PCA\n",
    "    scaler = StandardScaler()\n",
    "    images_train_flat = scaler.fit_transform(images_train_flat)  # Fit and transform the training data\n",
    "    images_test_flat = scaler.transform(images_test_flat)  # Transform the test data using the same scaler\n",
    "\n",
    "    # Apply PCA to reduce dimensionality\n",
    "    pca = PCA(n_components=n_components)\n",
    "    images_train_pca = pca.fit_transform(images_train_flat)  # Fit and transform the training data\n",
    "    images_test_pca = pca.transform(images_test_flat)  # Transform the test data using the same PCA\n",
    "\n",
    "    return images_train_pca, images_test_pca"
   ]
  },
  {
   "cell_type": "markdown",
   "id": "38a557c8-3a5d-4f94-ad27-9c3ea67bcb78",
   "metadata": {},
   "source": [
    "# function to train and evaluate the model"
   ]
  },
  {
   "cell_type": "code",
   "execution_count": 3,
   "id": "9efd70fb-d8f7-4078-a28d-3fbbff34c805",
   "metadata": {},
   "outputs": [],
   "source": [
    "# Function to train an SVM model using Grid Search to find the best hyperparameters\n",
    "def train_svm_with_grid_search(images_train, labels_train):\n",
    "    # Define the hyperparameter grid for Grid Search\n",
    "    param_grid = {\n",
    "        'C': [0.1, 1, 10],  # Regularization parameter\n",
    "        'kernel': ['linear', 'rbf', 'poly'],  # Kernel type\n",
    "        'gamma': ['scale', 'auto']  # Kernel coefficient for 'rbf' and 'poly' kernels\n",
    "    }\n",
    "    # Initialize GridSearchCV with SVM model and the defined parameter grid\n",
    "    grid_search = GridSearchCV(svm.SVC(), param_grid, verbose=3, cv=3)  # 3-fold cross-validation\n",
    "    grid_search.fit(images_train, labels_train)  # Fit the model to the training data\n",
    "    return grid_search.best_estimator_  # Return the model with the best found parameters\n",
    "\n",
    "# Function to evaluate the trained model on the test data\n",
    "def evaluate_model(model, images_test, labels_test, class_names):\n",
    "    y_pred = model.predict(images_test)  # Predict the labels for test data\n",
    "    accuracy = accuracy_score(labels_test, y_pred)  # Calculate the accuracy of the model\n",
    "    report = classification_report(labels_test, y_pred, target_names=class_names)  # Generate classification report\n",
    "    print(f\"Accuracy: {accuracy * 100:.2f}%\")  # Print the accuracy as a percentage\n",
    "    print(\"Classification Report:\\n\", report)  # Print the detailed classification report"
   ]
  },
  {
   "cell_type": "markdown",
   "id": "86d5586d-a532-4bb7-9f33-8347858786d5",
   "metadata": {},
   "source": [
    "# load and run the code"
   ]
  },
  {
   "cell_type": "code",
   "execution_count": 4,
   "id": "7f551714-ad1f-445e-92b3-b5c691e370b9",
   "metadata": {},
   "outputs": [],
   "source": [
    "# Load data\n",
    "images_train, labels_train, class_names = load_images_from_folder('C:\\\\Users\\\\dovy4\\\\Desktop\\\\1000')\n",
    "images_test, labels_test, _ = load_images_from_folder('C:\\\\Users\\\\dovy4\\\\Desktop\\\\test_100')"
   ]
  },
  {
   "cell_type": "code",
   "execution_count": 5,
   "id": "0677d717-5b64-44c4-bb42-4e42825b99c8",
   "metadata": {},
   "outputs": [],
   "source": [
    "# Preprocess the data using PCA to reduce dimensionality to 100 components\n",
    "images_train_flat, images_test_flat = preprocess_data_with_pca(images_train, images_test, n_components=100)"
   ]
  },
  {
   "cell_type": "code",
   "execution_count": null,
   "id": "8f23ddee-0c8b-46b0-83ef-cc2dbd16666e",
   "metadata": {
    "scrolled": true
   },
   "outputs": [
    {
     "name": "stdout",
     "output_type": "stream",
     "text": [
      "Fitting 3 folds for each of 18 candidates, totalling 54 fits\n",
      "[CV 1/3] END .C=0.1, gamma=scale, kernel=linear;, score=0.371 total time=  57.5s\n",
      "[CV 2/3] END .C=0.1, gamma=scale, kernel=linear;, score=0.390 total time=  55.9s\n",
      "[CV 3/3] END .C=0.1, gamma=scale, kernel=linear;, score=0.373 total time=  52.5s\n",
      "[CV 1/3] END ....C=0.1, gamma=scale, kernel=rbf;, score=0.379 total time=   5.3s\n",
      "[CV 2/3] END ....C=0.1, gamma=scale, kernel=rbf;, score=0.372 total time=   5.4s\n",
      "[CV 3/3] END ....C=0.1, gamma=scale, kernel=rbf;, score=0.366 total time=   5.3s\n",
      "[CV 1/3] END ...C=0.1, gamma=scale, kernel=poly;, score=0.312 total time=   3.4s\n",
      "[CV 2/3] END ...C=0.1, gamma=scale, kernel=poly;, score=0.301 total time=   3.5s\n",
      "[CV 3/3] END ...C=0.1, gamma=scale, kernel=poly;, score=0.287 total time=   3.4s\n",
      "[CV 1/3] END ..C=0.1, gamma=auto, kernel=linear;, score=0.371 total time=  56.3s\n",
      "[CV 2/3] END ..C=0.1, gamma=auto, kernel=linear;, score=0.390 total time=  56.4s\n",
      "[CV 3/3] END ..C=0.1, gamma=auto, kernel=linear;, score=0.373 total time=  53.3s\n",
      "[CV 1/3] END .....C=0.1, gamma=auto, kernel=rbf;, score=0.106 total time=   6.3s\n",
      "[CV 2/3] END .....C=0.1, gamma=auto, kernel=rbf;, score=0.104 total time=   6.6s\n",
      "[CV 3/3] END .....C=0.1, gamma=auto, kernel=rbf;, score=0.105 total time=   6.8s\n",
      "[CV 1/3] END ....C=0.1, gamma=auto, kernel=poly;, score=0.377 total time=   4.9s\n",
      "[CV 2/3] END ....C=0.1, gamma=auto, kernel=poly;, score=0.375 total time=   5.1s\n",
      "[CV 3/3] END ....C=0.1, gamma=auto, kernel=poly;, score=0.377 total time=   4.9s\n",
      "[CV 1/3] END ...C=1, gamma=scale, kernel=linear;, score=0.370 total time= 9.9min\n",
      "[CV 2/3] END ...C=1, gamma=scale, kernel=linear;, score=0.390 total time= 9.2min\n",
      "[CV 3/3] END ...C=1, gamma=scale, kernel=linear;, score=0.373 total time=10.0min\n",
      "[CV 1/3] END ......C=1, gamma=scale, kernel=rbf;, score=0.463 total time=   5.6s\n",
      "[CV 2/3] END ......C=1, gamma=scale, kernel=rbf;, score=0.449 total time=   5.5s\n",
      "[CV 3/3] END ......C=1, gamma=scale, kernel=rbf;, score=0.455 total time=   5.6s\n",
      "[CV 1/3] END .....C=1, gamma=scale, kernel=poly;, score=0.384 total time=   3.7s\n",
      "[CV 2/3] END .....C=1, gamma=scale, kernel=poly;, score=0.377 total time=   3.7s\n",
      "[CV 3/3] END .....C=1, gamma=scale, kernel=poly;, score=0.364 total time=   3.6s\n",
      "[CV 1/3] END ....C=1, gamma=auto, kernel=linear;, score=0.370 total time=10.4min\n",
      "[CV 2/3] END ....C=1, gamma=auto, kernel=linear;, score=0.390 total time= 9.8min\n"
     ]
    }
   ],
   "source": [
    "# Train the model with Grid Search\n",
    "svm_model = train_svm_with_grid_search(images_train_flat, labels_train)"
   ]
  },
  {
   "cell_type": "code",
   "execution_count": null,
   "id": "24a187d3-cf1b-476e-910d-6c2aa8486024",
   "metadata": {},
   "outputs": [],
   "source": [
    "# Evaluate the model\n",
    "evaluate_model(svm_model, images_test_flat, labels_test, class_names)"
   ]
  },
  {
   "cell_type": "code",
   "execution_count": null,
   "id": "d8158bf6-54c1-47f0-917c-9604a0243873",
   "metadata": {},
   "outputs": [],
   "source": [
    "# Confusion Matrix\n",
    "y_pred = svm_model.predict(images_test_flat)\n",
    "conf_matrix = confusion_matrix(labels_test, y_pred)\n",
    "plt.figure(figsize=(10, 8))\n",
    "sns.heatmap(conf_matrix, annot=True, fmt=\"d\", cmap=\"Blues\", xticklabels=class_names, yticklabels=class_names)\n",
    "plt.xlabel('Predicted Label')\n",
    "plt.ylabel('True Label')\n",
    "plt.title('Confusion Matrix for SVM with PCA')\n",
    "plt.show()"
   ]
  },
  {
   "cell_type": "code",
   "execution_count": null,
   "id": "e1ed73e8-2f77-4f10-a3f7-0fe2d585933c",
   "metadata": {},
   "outputs": [],
   "source": []
  }
 ],
 "metadata": {
  "kernelspec": {
   "display_name": "Python 3 (ipykernel)",
   "language": "python",
   "name": "python3"
  },
  "language_info": {
   "codemirror_mode": {
    "name": "ipython",
    "version": 3
   },
   "file_extension": ".py",
   "mimetype": "text/x-python",
   "name": "python",
   "nbconvert_exporter": "python",
   "pygments_lexer": "ipython3",
   "version": "3.12.3"
  }
 },
 "nbformat": 4,
 "nbformat_minor": 5
}
